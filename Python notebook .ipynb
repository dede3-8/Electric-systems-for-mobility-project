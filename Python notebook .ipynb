{
 "cells": [
  {
   "cell_type": "code",
   "execution_count": 1,
   "metadata": {},
   "outputs": [],
   "source": [
    "import numpy as np\n",
    "import matplotlib as plt\n",
    "from matplotlib import pyplot as plt"
   ]
  },
  {
   "cell_type": "markdown",
   "metadata": {},
   "source": [
    "Conservative paths\\\n",
    "BMW data\n"
   ]
  },
  {
   "cell_type": "code",
   "execution_count": 2,
   "metadata": {},
   "outputs": [
    {
     "name": "stdout",
     "output_type": "stream",
     "text": [
      "[39.75945510835913, 37.627244582043346, 38.16029721362229, 29.631455108359138, 38.69334984520124, 39.226402476780194, 37.09419195046439]\n"
     ]
    }
   ],
   "source": [
    "e=42.2 #kwh, total_battery_capacity\n",
    "p=[47.5,42.5] #kw, from 10 to 85% charging_power and from 85 to 90%\n",
    "#charging_time: energy_required/power_availible \n",
    "#charging stations:\n",
    "t_bmw_cons=[]\n",
    "percentage=[0.69,0.65,0.66,0.50,0.67,0.68,0.64] #percentages to 85%\n",
    "for level in percentage:\n",
    "    t_bmw_cons.append((((level*e)/p[0])+((0.05*e)/p[1]))*60)\n",
    "print(t_bmw_cons)\n",
    "\n"
   ]
  },
  {
   "cell_type": "code",
   "execution_count": 3,
   "metadata": {},
   "outputs": [
    {
     "data": {
      "text/plain": [
       "260.1923962848298"
      ]
     },
     "execution_count": 3,
     "metadata": {},
     "output_type": "execute_result"
    }
   ],
   "source": [
    "sum(t_bmw_cons) #this is the total time to recharge the bmw"
   ]
  },
  {
   "cell_type": "code",
   "execution_count": 4,
   "metadata": {},
   "outputs": [
    {
     "name": "stdout",
     "output_type": "stream",
     "text": [
      "[31.228, 29.54, 29.962, 23.210000000000004, 30.384, 30.806, 29.118]\n",
      "204.24800000000002\n"
     ]
    }
   ],
   "source": [
    "#total energy recharged\n",
    "percentage_total=[0.74,0.70,0.71,0.55,0.72,0.73,0.69]\n",
    "energy1=[]\n",
    "for level in percentage_total:\n",
    "    energy1.append(level*e)\n",
    "print(energy1) #energy in kwh at each charging station\n",
    "print(sum(energy1)) #total energy recharged"
   ]
  },
  {
   "cell_type": "code",
   "execution_count": 5,
   "metadata": {},
   "outputs": [
    {
     "data": {
      "text/plain": [
       "174.286"
      ]
     },
     "execution_count": 5,
     "metadata": {},
     "output_type": "execute_result"
    }
   ],
   "source": [
    "energy1s = energy1[:2] + energy1[2 + 1:] #in the station 3 the price is higher\n",
    "sum(energy1s)\n"
   ]
  },
  {
   "cell_type": "code",
   "execution_count": 6,
   "metadata": {},
   "outputs": [
    {
     "name": "stdout",
     "output_type": "stream",
     "text": [
      "72.53336 63.67136\n"
     ]
    }
   ],
   "source": [
    "#price of the energy\n",
    "price=[0.30,0.38]\n",
    "cost=price[1]*energy1[2]+(price[0]*sum(energy1s))\n",
    "cost #in euros\n",
    "#to this cost we should also add the initial cost to recharge our car at home, from 0 to 100%.\n",
    "price_at_home=0.210 #euros for kWh\n",
    "cost_at_home=price_at_home*e\n",
    "total_cost_bmw_cons=cost+cost_at_home\n",
    "print(total_cost_bmw_cons,cost)"
   ]
  },
  {
   "cell_type": "markdown",
   "metadata": {},
   "source": [
    "  Nissan Leaf"
   ]
  },
  {
   "cell_type": "code",
   "execution_count": 7,
   "metadata": {},
   "outputs": [
    {
     "name": "stdout",
     "output_type": "stream",
     "text": [
      "[49.01674312115497, 49.01674312115497, 45.15467415563772, 36.87881208667222, 46.80984656943083, 46.2581224314998, 45.70639829356877]\n"
     ]
    },
    {
     "data": {
      "text/plain": [
       "[49.01674312115497,\n",
       " 49.01674312115497,\n",
       " 45.15467415563772,\n",
       " 36.87881208667222,\n",
       " 46.80984656943083,\n",
       " 59.972408145785515,\n",
       " 45.70639829356877]"
      ]
     },
     "execution_count": 7,
     "metadata": {},
     "output_type": "execute_result"
    }
   ],
   "source": [
    "e=40 #kwh, total_battery_capacity\n",
    "p=[43.5,39.5,26.5,17.5] #kw, from 10 to 60% charging_power, from 60 to 70%, from 70 to 90% and from 90 to 100% \n",
    "#charging_time: energy_required/power_availible \n",
    "#charging stations:\n",
    "percentage1=[0.45,0.45,0.38,0.23,0.41,0.40,0.39] #this percentages are 60%-percentage on which we arrive at each station\n",
    "p2=0.10\n",
    "p3=0.20\n",
    "p4=0.10\n",
    "t_nissan_cons=[]\n",
    "for level in percentage1:\n",
    "    t_nissan_cons.append((((level*e)/p[0])+((p2*e)/p[1])+((p3*e)/p[2]))*60)\n",
    "print(t_nissan_cons)\n",
    "t_nissan_cons[5]=t_nissan_cons[5]+((p4*e/p[3])*60) #in this station we recharge to 100% \n",
    "t_nissan_cons"
   ]
  },
  {
   "cell_type": "code",
   "execution_count": 8,
   "metadata": {},
   "outputs": [
    {
     "data": {
      "text/plain": [
       "332.555625493405"
      ]
     },
     "execution_count": 8,
     "metadata": {},
     "output_type": "execute_result"
    }
   ],
   "source": [
    "sum(t_nissan_cons) #total time to charge the Nissan leaf in case 1"
   ]
  },
  {
   "cell_type": "code",
   "execution_count": 9,
   "metadata": {},
   "outputs": [
    {
     "data": {
      "text/plain": [
       "[49.01674312115497,\n",
       " 49.01674312115497,\n",
       " 45.15467415563772,\n",
       " 36.87881208667222,\n",
       " 46.80984656943083,\n",
       " 46.258,\n",
       " 51.22363967287911]"
      ]
     },
     "execution_count": 9,
     "metadata": {},
     "output_type": "execute_result"
    }
   ],
   "source": [
    "#if we recharge up to 90%\n",
    "t_nissan_cons[5]=46.258 #here in this station we recharge up to 90%\n",
    "t_nissan_cons[6]=(0.49*e/p[0]+(p2*e/p[1])+(p3*e/p[2]))*60 #in the last station we charge more in this case \n",
    "t_nissan_cons"
   ]
  },
  {
   "cell_type": "code",
   "execution_count": 10,
   "metadata": {},
   "outputs": [
    {
     "data": {
      "text/plain": [
       "324.3584587269298"
      ]
     },
     "execution_count": 10,
     "metadata": {},
     "output_type": "execute_result"
    }
   ],
   "source": [
    "sum(t_nissan_cons) #total time to charge the Nissan leaf in case 2, which is 6 minutes less, we consider this value"
   ]
  },
  {
   "cell_type": "code",
   "execution_count": 11,
   "metadata": {},
   "outputs": [
    {
     "name": "stdout",
     "output_type": "stream",
     "text": [
      "[30.0, 30.0, 27.599999999999998, 18.400000000000002, 28.4, 32.0, 27.599999999999998]\n",
      "194.0\n"
     ]
    }
   ],
   "source": [
    "#total energy recharged\n",
    "percentage_total=[0.75,0.75,0.69,0.46,0.71,0.80,0.69]\n",
    "energyn=[]\n",
    "for level in percentage_total:\n",
    "    energyn.append(level*e)\n",
    "print(energyn) #energy in kwh at each charging station\n",
    "print(sum(energyn)) #total energy recharged"
   ]
  },
  {
   "cell_type": "code",
   "execution_count": 12,
   "metadata": {},
   "outputs": [
    {
     "data": {
      "text/plain": [
       "162.0"
      ]
     },
     "execution_count": 12,
     "metadata": {},
     "output_type": "execute_result"
    }
   ],
   "source": [
    "energy2 = energyn[:5] + energyn[5 + 1:] #in the station 6 the price is higher \n",
    "sum(energy2)\n"
   ]
  },
  {
   "cell_type": "code",
   "execution_count": 13,
   "metadata": {},
   "outputs": [
    {
     "name": "stdout",
     "output_type": "stream",
     "text": [
      "69.48 61.08\n"
     ]
    }
   ],
   "source": [
    "#price of the energy\n",
    "price=[0.30,0.39] #euros for kWh\n",
    "cost=price[1]*energyn[5]+(price[0]*sum(energy2))\n",
    "#to this cost we should also add the initial cost to recharge our car at home, from 0 to 100%.\n",
    "price_at_home=0.210 #euros for kWh\n",
    "cost_at_home=price_at_home*e\n",
    "total_cost_nissan_cons=cost+cost_at_home\n",
    "print(total_cost_nissan_cons,cost)"
   ]
  },
  {
   "cell_type": "markdown",
   "metadata": {},
   "source": [
    "Stations 5,6,7 are supplyed with renewable energy "
   ]
  },
  {
   "cell_type": "code",
   "execution_count": 14,
   "metadata": {},
   "outputs": [],
   "source": [
    "energy_renewable=sum(energyn[4:7])\n",
    "energy_non_renewable=sum(energyn[0:4])\n"
   ]
  },
  {
   "cell_type": "code",
   "execution_count": 15,
   "metadata": {},
   "outputs": [
    {
     "data": {
      "image/png": "[encoded data removed]",
      "text/plain": [
       "<Figure size 1008x432 with 1 Axes>"
      ]
     },
     "metadata": {},
     "output_type": "display_data"
    }
   ],
   "source": [
    "fig1, ax1 = plt.subplots(figsize=(14,6))\n",
    "sizes=(energy_renewable/sum(energyn),energy_non_renewable/sum(energyn))\n",
    "labels=('Renewable Energy','Non Renewable Energy')\n",
    "ax1.pie(sizes, labels=labels, autopct='%1.1f%%',\n",
    "        shadow=True, startangle=90,colors=['#B70018','#FDB90A'],wedgeprops = {'linewidth': 2})\n",
    "ax1.axis('equal') \n",
    "plt.legend(labels, loc=\"best\",prop={'size': 15})\n",
    "plt.show()"
   ]
  },
  {
   "cell_type": "markdown",
   "metadata": {},
   "source": [
    "Tesla "
   ]
  },
  {
   "cell_type": "code",
   "execution_count": 16,
   "metadata": {},
   "outputs": [
    {
     "name": "stdout",
     "output_type": "stream",
     "text": [
      "[33.25, 41.8]\n"
     ]
    },
    {
     "data": {
      "text/plain": [
       "75.05"
      ]
     },
     "execution_count": 16,
     "metadata": {},
     "output_type": "execute_result"
    }
   ],
   "source": [
    "e=95 #kwh, total_battery_capacity\n",
    "p_150=[150,95] #kw, from 0 to 45% charging_power and from 45 to 100%\n",
    "p_120=[120,87.5] #kw, from 0 to 55% charging_power and from 55 to 100%\n",
    "#charging_time: energy_required/power_availible \n",
    "#charging stations:\n",
    "t_tesla_cons=[]\n",
    "percentage=[0.22,0.4] #percentages to 85%\n",
    "for level in percentage:\n",
    "    t_tesla_cons.append((((level*e)/p_120[0])+((0.35*e)/p_120[1]))*60)\n",
    "print(t_tesla_cons)\n",
    "sum(t_tesla_cons)\n"
   ]
  },
  {
   "cell_type": "code",
   "execution_count": 17,
   "metadata": {},
   "outputs": [
    {
     "data": {
      "text/plain": [
       "68.86714285714287"
      ]
     },
     "execution_count": 17,
     "metadata": {},
     "output_type": "execute_result"
    }
   ],
   "source": [
    "#if we charge at 150kw at the second station\n",
    "t_tesla_2=((((0.22*e)/p_120[0])+((0.40*e)/p_120[1])+((0.22*e)/p_150[0])+((0.40*e)/p_150[1]))*60)\n",
    "t_tesla_2"
   ]
  },
  {
   "cell_type": "code",
   "execution_count": 18,
   "metadata": {},
   "outputs": [
    {
     "data": {
      "text/plain": [
       "6.182857142857131"
      ]
     },
     "execution_count": 18,
     "metadata": {},
     "output_type": "execute_result"
    }
   ],
   "source": [
    "sum(t_tesla_cons)-t_tesla_2#we save 6 minutes if we recharge at 150kw in the second station (not always possible)"
   ]
  },
  {
   "cell_type": "code",
   "execution_count": 19,
   "metadata": {
    "scrolled": true
   },
   "outputs": [
    {
     "name": "stdout",
     "output_type": "stream",
     "text": [
      "[54.15, 71.25]\n",
      "125.4\n"
     ]
    }
   ],
   "source": [
    "#total energy recharged\n",
    "percentage_total=[0.57,0.75]\n",
    "energy3=[]\n",
    "for level in percentage_total:\n",
    "    energy3.append(level*e)\n",
    "print(energy3) #energy in kwh at each charging station\n",
    "print(sum(energy3)) #total energy recharged"
   ]
  },
  {
   "cell_type": "code",
   "execution_count": 20,
   "metadata": {},
   "outputs": [
    {
     "name": "stdout",
     "output_type": "stream",
     "text": [
      "20.662499999999998 36.366\n"
     ]
    }
   ],
   "source": [
    "#price of the energy\n",
    "price=[0,0.29] #the first charging station is free\n",
    "cost=price[1]*energy3[1]\n",
    "cost1=price[1]*energy3[0]+price[1]*energy3[1] #if we apply the same tariffs also at the first station\n",
    "print(cost,cost1) "
   ]
  },
  {
   "cell_type": "code",
   "execution_count": 21,
   "metadata": {},
   "outputs": [
    {
     "name": "stdout",
     "output_type": "stream",
     "text": [
      "40.6125 56.316\n"
     ]
    }
   ],
   "source": [
    "price_at_home= 0.210 #total cost including the expenses at home\n",
    "cost_at_home=0.210*e\n",
    "total_cost_tesla_cons=cost+cost_at_home\n",
    "total_cost_tesla_1=cost1+cost_at_home\n",
    "print(total_cost_tesla_cons,total_cost_tesla_1)"
   ]
  },
  {
   "cell_type": "code",
   "execution_count": 22,
   "metadata": {},
   "outputs": [
    {
     "data": {
      "text/plain": [
       "[72.53336, 69.48, 40.6125]"
      ]
     },
     "execution_count": 22,
     "metadata": {},
     "output_type": "execute_result"
    }
   ],
   "source": [
    "#main values for conservative paths\n",
    "times_cons=[sum(t_bmw_cons),sum(t_nissan_cons),sum(t_tesla_cons)]\n",
    "times_cons\n",
    "costs_cons=[total_cost_bmw_cons,total_cost_nissan_cons,total_cost_tesla_cons]\n",
    "costs_cons"
   ]
  },
  {
   "cell_type": "code",
   "execution_count": 23,
   "metadata": {},
   "outputs": [
    {
     "data": {
      "image/png": "[encoded data removed]",
      "text/plain": [
       "<Figure size 1008x432 with 1 Axes>"
      ]
     },
     "metadata": {
      "needs_background": "light"
     },
     "output_type": "display_data"
    }
   ],
   "source": [
    "plt.figure(figsize=(14,6))\n",
    "plt.bar(np.arange(3),costs_cons,width=0.4,color=['#B70018','#FF8C00','#FDB90A'],edgecolor='#2B2B2B')   \n",
    "plt.xticks(ticks=(range(0,3)),labels=('Bmw i3','Nissan leaf','Tesla model S'))\n",
    "plt.grid(alpha=0.3)\n",
    "plt.ylabel('Total cost of electricity (€)',size=13)\n",
    "plt.title('Cost of energy',size=15)\n",
    "ax = plt.gca()\n",
    "ax.set_facecolor('#f4f1ee')\n",
    "plt.show()"
   ]
  },
  {
   "cell_type": "code",
   "execution_count": 24,
   "metadata": {},
   "outputs": [
    {
     "data": {
      "image/png": "[encoded data removed]",
      "text/plain": [
       "<Figure size 1008x432 with 1 Axes>"
      ]
     },
     "metadata": {
      "needs_background": "light"
     },
     "output_type": "display_data"
    }
   ],
   "source": [
    "plt.figure(figsize=(14,6))\n",
    "plt.bar(np.arange(3),times_cons,width=0.4,color=['#B70018','#FF8C00','#FDB90A'],edgecolor='#2B2B2B')\n",
    "plt.xticks(ticks=(range(0,3)),labels=('Bmw i3','Nissan leaf','Tesla model S'))\n",
    "plt.grid(alpha=0.3)\n",
    "plt.ylabel('Total charging time (min)',size=13)\n",
    "plt.title('Recharging times',size=15)\n",
    "ax = plt.gca()\n",
    "ax.set_facecolor('#f4f1ee')\n",
    "plt.show()"
   ]
  },
  {
   "cell_type": "markdown",
   "metadata": {},
   "source": [
    "Comparison of CO2 emitted"
   ]
  },
  {
   "cell_type": "code",
   "execution_count": 25,
   "metadata": {},
   "outputs": [],
   "source": [
    "#car data:\n",
    "em_n= 134 #all are CO2/km\n",
    "em_b= 121\n",
    "em_p= 240\n",
    "total_distance=978 #km\n",
    "#for the emissions of the electric vehicles we consider that 45.4% of the energy is form renewable sources,\n",
    "#so we can consider 0 CO2 for them, and the other 54,6% we consider the carbon intensity of the power sector in Spain\n",
    "carbon_intensity= 167 #g/kWh\n",
    "energy_leaf= sum(energyn)\n",
    "energy_i3= sum(energy1)\n",
    "energy_tesla=sum(energy3)\n"
   ]
  },
  {
   "cell_type": "code",
   "execution_count": 26,
   "metadata": {},
   "outputs": [
    {
     "name": "stdout",
     "output_type": "stream",
     "text": [
      "131052 118338 234720\n"
     ]
    }
   ],
   "source": [
    "#total emissions in grams for petrol cars\n",
    "total_c_n=em_n*total_distance\n",
    "total_c_b=em_b*total_distance\n",
    "total_c_p=em_p*total_distance\n",
    "print(total_c_n,total_c_b,total_c_p)"
   ]
  },
  {
   "cell_type": "code",
   "execution_count": 27,
   "metadata": {},
   "outputs": [
    {
     "name": "stdout",
     "output_type": "stream",
     "text": [
      "17689.308 18623.741136 11434.222800000001\n"
     ]
    }
   ],
   "source": [
    "#total emissions in grams for electric cars\n",
    "total_l_cons=carbon_intensity*0.546*energy_leaf\n",
    "total_i3_cons=carbon_intensity*0.546*energy_i3\n",
    "total_t_cons=carbon_intensity*0.546*energy_tesla\n",
    "print(total_l_cons,total_i3_cons,total_t_cons)\n"
   ]
  },
  {
   "cell_type": "code",
   "execution_count": 28,
   "metadata": {},
   "outputs": [
    {
     "data": {
      "image/png": "[encoded data removed]",
      "text/plain": [
       "<Figure size 1008x432 with 1 Axes>"
      ]
     },
     "metadata": {
      "needs_background": "light"
     },
     "output_type": "display_data"
    }
   ],
   "source": [
    "#representation\n",
    "labels = ['Nissan', 'BMW', 'Tesla/Porsche']\n",
    "ice_cars= [total_c_n,total_c_b,total_c_p]\n",
    "electric_cars= [total_l_cons,total_i3_cons,total_t_cons]\n",
    "x=np.arange(len(labels))\n",
    "width=0.35\n",
    "fig, ax = plt.subplots(figsize=(14,6))\n",
    "rects1 = ax.bar(x - width/2,ice_cars, width, label='Internal combustion engine cars',color='#B70018',edgecolor='#2B2B2B')\n",
    "rects2 = ax.bar(x + width/2,electric_cars, width, label='Electric cars',color='#FDB90A',edgecolor='#2B2B2B')\n",
    "plt.grid(alpha=0.3)\n",
    "plt.xticks(ticks=range(0,3),labels=('Nissan Juke/Leaf','Bmw Series1/i3','Porsche 911 Carrera/Tesla Model S'),size=12)\n",
    "ax = plt.gca()\n",
    "ax.set_facecolor('#f4f1ee')\n",
    "plt.ylabel('CO2 emitted (g)',size=13)\n",
    "plt.title('Total CO2 emitted in the journey',size=14)\n",
    "plt.legend()\n",
    "plt.show()"
   ]
  },
  {
   "cell_type": "code",
   "execution_count": 29,
   "metadata": {},
   "outputs": [],
   "source": [
    "#consumptions and costs \n",
    "cons_n=4 #litres per 100km\n",
    "cons_b=5.03\n",
    "cons_p=10.03\n",
    "#price of fuel\n",
    "price_fuel=[1.36,1.48] #euros per litre, diesel and petrol\n"
   ]
  },
  {
   "cell_type": "code",
   "execution_count": 30,
   "metadata": {},
   "outputs": [
    {
     "name": "stdout",
     "output_type": "stream",
     "text": [
      "39.12 49.193400000000004 98.0934\n"
     ]
    }
   ],
   "source": [
    "#total consumptions\n",
    "total_cons_n=(cons_n*total_distance)/100\n",
    "total_cons_b=(cons_b*total_distance)/100\n",
    "total_cons_p=(cons_p*total_distance)/100\n",
    "print(total_cons_n,total_cons_b,total_cons_p)\n"
   ]
  },
  {
   "cell_type": "code",
   "execution_count": 31,
   "metadata": {},
   "outputs": [
    {
     "name": "stdout",
     "output_type": "stream",
     "text": [
      "57.8976 66.90302400000002 133.407024\n"
     ]
    }
   ],
   "source": [
    "#total costs\n",
    "total_cost_n=total_cons_n*price_fuel[1]\n",
    "total_cost_b=total_cons_b*price_fuel[0]\n",
    "total_cost_p=total_cons_p*price_fuel[0]\n",
    "print(total_cost_n,total_cost_b,total_cost_p)"
   ]
  },
  {
   "cell_type": "code",
   "execution_count": 32,
   "metadata": {},
   "outputs": [],
   "source": [
    "#total costs including the refuel to full at home\n",
    "tank_capacity=[46,48,64] #capacity of the tank in liters\n",
    "total_n=total_cost_n+price_fuel[1]*tank_capacity[0]\n",
    "total_b=total_cost_b+price_fuel[0]*tank_capacity[1]\n",
    "total_p=total_cost_p+price_fuel[0]*tank_capacity[2]\n",
    "\n",
    "\n"
   ]
  },
  {
   "cell_type": "code",
   "execution_count": 33,
   "metadata": {},
   "outputs": [
    {
     "data": {
      "text/plain": [
       "[72.53336, 69.48, 40.6125]"
      ]
     },
     "execution_count": 33,
     "metadata": {},
     "output_type": "execute_result"
    }
   ],
   "source": [
    "#total costs for electric cars\n",
    "costs_cons\n",
    "\n"
   ]
  },
  {
   "cell_type": "code",
   "execution_count": 34,
   "metadata": {},
   "outputs": [
    {
     "data": {
      "image/png": "[encoded data removed]",
      "text/plain": [
       "<Figure size 1008x432 with 1 Axes>"
      ]
     },
     "metadata": {
      "needs_background": "light"
     },
     "output_type": "display_data"
    }
   ],
   "source": [
    "#representation\n",
    "labels = ['Nissan', 'BMW', 'Tesla/Porsche']\n",
    "ice_cars= [total_n,total_b,total_p]\n",
    "electric_cars=costs_cons\n",
    "x=np.arange(len(labels))\n",
    "width=0.35\n",
    "fig, ax = plt.subplots(figsize=(14,6))\n",
    "rects1 = ax.bar(x - width/2,ice_cars, width, label='Internal combustion engine cars',color='#B70018',edgecolor='#2B2B2B')\n",
    "rects2 = ax.bar(x + width/2,electric_cars, width, label='Electric cars',color='#FDB90A',edgecolor='#2B2B2B')\n",
    "plt.grid(alpha=0.3)\n",
    "plt.xticks(ticks=range(0,3),labels=('Nissan Juke/Leaf','Bmw Series1/i3','Porsche 911 Carrera/Tesla Model S'),size=12)\n",
    "ax = plt.gca()\n",
    "ax.set_facecolor('#f4f1ee')\n",
    "plt.ylabel('Cost (€)',size=13)\n",
    "plt.title('Total cost of the journey',size=14)\n",
    "plt.legend()\n",
    "plt.show()\n",
    "\n",
    "\n",
    "\n"
   ]
  },
  {
   "cell_type": "markdown",
   "metadata": {},
   "source": [
    "Ideal paths\\\n",
    "Tesla"
   ]
  },
  {
   "cell_type": "code",
   "execution_count": 35,
   "metadata": {},
   "outputs": [
    {
     "name": "stdout",
     "output_type": "stream",
     "text": [
      "0.037528611111111165 0.39636916666666666\n"
     ]
    }
   ],
   "source": [
    "e=100 #kwh, total_battery_capacity\n",
    "p_150=[150,95] #kw, from 0 to 45% charging_power and from 45 to 100%\n",
    "p_120=[120,87.5] #kw, from 0 to 55% charging_power and from 55 to 100%\n",
    "#charging_time: energy_required/power_availible \n",
    "#Bilbao to first stop\n",
    "e_consumed1=((-4.5655*10**6)+(1.8463*10**8)+(1.6005*10**8)+(6.3752*10**6))/3600000\n",
    "percentage1=(1-(e_consumed1/e))\n",
    "#first stop to Cadiz\n",
    "e_consumed2=((-3.9657*10**6)+(1.2165*10**8)+(1.0483*10**8)+(-5.2072*10**6))/3600000\n",
    "percentage2=(1-(e_consumed2/e))\n",
    "print(percentage1,percentage2)\n",
    "energy_tesla_opt=e_consumed1+e_consumed2"
   ]
  },
  {
   "cell_type": "code",
   "execution_count": 36,
   "metadata": {},
   "outputs": [
    {
     "data": {
      "text/plain": [
       "57.55148713450292"
      ]
     },
     "execution_count": 36,
     "metadata": {},
     "output_type": "execute_result"
    }
   ],
   "source": [
    "#total recharging time\n",
    "t_tesla_opt=(((0.45-percentage1)*e)/p_150[0]+(0.65*e)/p_150[1])*60\n",
    "t_tesla_opt #in min\n"
   ]
  },
  {
   "cell_type": "code",
   "execution_count": 37,
   "metadata": {},
   "outputs": [
    {
     "name": "stdout",
     "output_type": "stream",
     "text": [
      "28.874141666666663 49.87414166666666\n"
     ]
    }
   ],
   "source": [
    "#total cost of the energy\n",
    "price=0.30 #euro/kWh\n",
    "e_recharged=e_consumed1\n",
    "total_cost_trip_tesla= e_recharged*price\n",
    "price_at_home= 0.210 #total cost including the expenses at home\n",
    "cost_at_home=0.210*e\n",
    "total_cost_tesla_opt=total_cost_trip_tesla+cost_at_home\n",
    "print(total_cost_trip_tesla,total_cost_tesla_opt)"
   ]
  },
  {
   "cell_type": "markdown",
   "metadata": {},
   "source": [
    "BMW i3"
   ]
  },
  {
   "cell_type": "code",
   "execution_count": 38,
   "metadata": {},
   "outputs": [
    {
     "name": "stdout",
     "output_type": "stream",
     "text": [
      "0.15207214323328078 0.2598525539757768 0.2928179304897315 0.35298709847288057 0.6187050737230121\n"
     ]
    }
   ],
   "source": [
    "e=42.2 #kwh, total_battery_capacity\n",
    "p=[47.5,42.5] #kw, from 10 to 85% charging_power and from 85 to 90%\n",
    "#Bilbao to first stop\n",
    "e_consumed1=((-6.1888*10**6)+(7.9518*10**7)+(4.2707*10**7)+(1.2781*10**7))/3600000\n",
    "percentage1=(1-(e_consumed1/e))\n",
    "#first stop to second stop\n",
    "e_consumed2=((-1.4798*10**6)+(7.5216*10**7)+(4.0443*10**7)+(-1.7360*10**6))/3600000\n",
    "percentage2=(1-(e_consumed2/e))\n",
    "#second stop to third stop\n",
    "e_consumed3=((-1.7289*10**6)+(7.3117*10**7)+(3.9328*10**7)+(-3.2810*10**6))/3600000\n",
    "percentage3=(1-(e_consumed3/e))\n",
    "#third stop to fourth stop\n",
    "e_consumed4=((-1.4809*10**6)+(6.9380*10**7)+(3.7438*10**7)+(-7.0429*10**6))/3600000\n",
    "percentage4=(1-(e_consumed4/e))\n",
    "#fourth stop to Cadiz\n",
    "e_consumed5=((1125.2)+(9.0812*10**6)+(4.8844*10**7))/3600000\n",
    "percentage5=(1-(e_consumed5/e))\n",
    "print(percentage1,percentage2,percentage3,percentage4,percentage5)\n",
    "energy_bmw_opt=e_consumed1+e_consumed2+e_consumed3+e_consumed4+e_consumed5\n",
    "\n",
    "\n",
    "\n"
   ]
  },
  {
   "cell_type": "code",
   "execution_count": 39,
   "metadata": {},
   "outputs": [
    {
     "name": "stdout",
     "output_type": "stream",
     "text": [
      "[46.13969865841072, 40.39443550051599, 38.63720743034056, 35.42987409700722]\n",
      "160.60121568627451\n"
     ]
    }
   ],
   "source": [
    "#total recharging time in minutes \n",
    "percentages=[percentage1,percentage2,percentage3,percentage4]\n",
    "t_bmw_opt=[]\n",
    "for pc in percentages:\n",
    "    t_bmw_opt.append((((0.85-pc)*e)/p[0]+(0.15*e)/p[1])*60)\n",
    "print(t_bmw_opt)\n",
    "t_total_bmw_opt=sum(t_bmw_opt) \n",
    "print(t_total_bmw_opt)"
   ]
  },
  {
   "cell_type": "code",
   "execution_count": 40,
   "metadata": {},
   "outputs": [
    {
     "name": "stdout",
     "output_type": "stream",
     "text": [
      "40.39719070555556 49.25919070555556\n"
     ]
    }
   ],
   "source": [
    "#total cost of the energy\n",
    "price=[0.3049,0.39] #euro/kWh, the price in the third charging station is higher \n",
    "e_recharged1=e_consumed1+e_consumed2+e_consumed4 #energy recharged at price 1\n",
    "e_recharged2=e_consumed3 #energy recharged at price 2\n",
    "total_cost_trip_bmw= e_recharged1*price[0]+e_recharged2*price[1]\n",
    "price_at_home= 0.210 #total cost including the expenses at home\n",
    "cost_at_home=0.210*e\n",
    "total_cost_bmw_opt=total_cost_trip_bmw+cost_at_home\n",
    "print(total_cost_trip_bmw,total_cost_bmw_opt)"
   ]
  },
  {
   "cell_type": "markdown",
   "metadata": {},
   "source": [
    "Nissan leaf "
   ]
  },
  {
   "cell_type": "code",
   "execution_count": 41,
   "metadata": {},
   "outputs": [
    {
     "name": "stdout",
     "output_type": "stream",
     "text": [
      "0.09936368055555556 0.33076243055555554 0.35306249999999995 0.2983673611111112 0.43818541666666666\n"
     ]
    }
   ],
   "source": [
    "e=40 #kwh, total_battery_capacity\n",
    "p=[43.5,39.5,26.5,17.5] #kw, from 10 to 60% charging_power, from 60 to 70%, from 70 to 90% and from 90 to 100% \n",
    "#charging_time: energy_required/power_availible \n",
    "#Bilbao to first stop\n",
    "e_consumed1=((-4.4537*10**5)+(6.9519*10**7)+(4.4914*10**7)+(1.5704*10**7))/3600000\n",
    "percentage1=(1-(e_consumed1/e))\n",
    "#first stop to second stop\n",
    "e_consumed2=((-1.4759*10**5)+(5.9393*10**7)+(3.8198*10**7)+(-1.0732*10**6))/3600000\n",
    "percentage2=(1-(e_consumed2/e))\n",
    "#second stop to third stop\n",
    "e_consumed3=((-1.7440*10**6)+(6.4060*10**7)+(4.0939*10**7)+(-1.0096*10**7))/3600000\n",
    "percentage3=(1-(e_consumed3/e))\n",
    "#third stop to fourth stop\n",
    "e_consumed4=((-1.4772*10**6)+(6.0672*10**7)+(3.9648*10**7)+(2.1923*10**6))/3600000\n",
    "percentage4=(1-(e_consumed4/e))\n",
    "#fourth stop to Cadiz\n",
    "e_consumed5=((-1.1804*10**6)+(5.2668*10**7)+(3.5272*10**7)+(-5.8583*10**6))/3600000\n",
    "percentage5=(1-(e_consumed5/e))\n",
    "print(percentage1,percentage2,percentage3,percentage4,percentage5)\n",
    "energy_nissan_opt=e_consumed1+e_consumed2+e_consumed3+e_consumed4+e_consumed5"
   ]
  },
  {
   "cell_type": "code",
   "execution_count": 42,
   "metadata": {},
   "outputs": [
    {
     "name": "stdout",
     "output_type": "stream",
     "text": [
      "[65.52475680478935, 52.75792921858245, 51.52758055957861, 54.54524339482765]\n",
      "224.35550997777807\n"
     ]
    }
   ],
   "source": [
    "#total recharging time in minutes \n",
    "percentages=[percentage1,percentage2,percentage3,percentage4]\n",
    "t_nissan_opt=[]\n",
    "for pc in percentages:\n",
    "    t_nissan_opt.append((((0.60-pc)*e)/p[0]+(0.10*e)/p[1]+(0.20*e)/p[2]+(0.10*e)/p[3])*60)\n",
    "print(t_nissan_opt)\n",
    "t_total_nissan_opt=sum(t_nissan_opt) \n",
    "print(t_total_nissan_opt)"
   ]
  },
  {
   "cell_type": "code",
   "execution_count": 43,
   "metadata": {},
   "outputs": [
    {
     "name": "stdout",
     "output_type": "stream",
     "text": [
      "34.12369766027778 42.523697660277776\n"
     ]
    }
   ],
   "source": [
    "#total cost of the energy\n",
    "price=[0.3049,0.25] #euro/kWh, the price in the second charging station is lower\n",
    "e_recharged1=e_consumed1+e_consumed3+e_consumed4 #energy recharged at price 1\n",
    "e_recharged2=e_consumed2 #energy recharged at price 2\n",
    "total_cost_trip_nissan= e_recharged1*price[0]+e_recharged2*price[1]\n",
    "price_at_home= 0.210 #total cost including the expenses at home\n",
    "cost_at_home=0.210*e\n",
    "total_cost_nissan_opt=total_cost_trip_nissan+cost_at_home\n",
    "print(total_cost_trip_nissan,total_cost_nissan_opt)"
   ]
  },
  {
   "cell_type": "code",
   "execution_count": 44,
   "metadata": {},
   "outputs": [],
   "source": [
    "times_opt=[t_total_bmw_opt,t_total_nissan_opt,t_tesla_opt]\n",
    "costs_opt=[total_cost_bmw_opt,total_cost_nissan_opt,total_cost_tesla_opt]"
   ]
  },
  {
   "cell_type": "code",
   "execution_count": 45,
   "metadata": {},
   "outputs": [
    {
     "data": {
      "image/png": "[encoded data removed]",
      "text/plain": [
       "<Figure size 1008x432 with 1 Axes>"
      ]
     },
     "metadata": {
      "needs_background": "light"
     },
     "output_type": "display_data"
    }
   ],
   "source": [
    "plt.figure(figsize=(14,6))\n",
    "plt.bar(np.arange(3),costs_opt,width=0.4,color=['#B70018','#FF8C00','#FDB90A'],edgecolor='#2B2B2B')   \n",
    "plt.xticks(ticks=(range(0,3)),labels=('Bmw i3','Nissan leaf','Tesla model S'))\n",
    "plt.grid(alpha=0.3)\n",
    "plt.ylabel('Total cost of electricity (€)',size=13)\n",
    "plt.title('Cost of energy (optimistic path)',size=15)\n",
    "ax = plt.gca()\n",
    "ax.set_facecolor('#f4f1ee')\n",
    "plt.show()"
   ]
  },
  {
   "cell_type": "code",
   "execution_count": 46,
   "metadata": {},
   "outputs": [
    {
     "data": {
      "image/png": "[encoded data removed]",
      "text/plain": [
       "<Figure size 1008x432 with 1 Axes>"
      ]
     },
     "metadata": {
      "needs_background": "light"
     },
     "output_type": "display_data"
    }
   ],
   "source": [
    "plt.figure(figsize=(14,6))\n",
    "plt.bar(np.arange(3),times_opt,width=0.4,color=['#B70018','#FF8C00','#FDB90A'],edgecolor='#2B2B2B')\n",
    "plt.xticks(ticks=(range(0,3)),labels=('Bmw i3','Nissan leaf','Tesla model S'))\n",
    "plt.grid(alpha=0.3)\n",
    "plt.ylabel('Total charging time (min)',size=13)\n",
    "plt.title('Recharging times (optimistic path)',size=15)\n",
    "ax = plt.gca()\n",
    "ax.set_facecolor('#f4f1ee')\n",
    "plt.show()"
   ]
  },
  {
   "cell_type": "code",
   "execution_count": 47,
   "metadata": {},
   "outputs": [
    {
     "name": "stdout",
     "output_type": "stream",
     "text": [
      "12693.477627133334 12788.681391607333 14280.033282666665\n"
     ]
    }
   ],
   "source": [
    "#CO2 emitted in optimal paths\n",
    "total_nissan_opt=carbon_intensity*0.546*energy_nissan_opt\n",
    "total_bmw_opt=carbon_intensity*0.546*energy_bmw_opt\n",
    "total_tesla_opt=carbon_intensity*0.546*energy_tesla_opt\n",
    "print(total_nissan_opt,total_bmw_opt,total_tesla_opt)\n",
    "\n",
    "\n"
   ]
  },
  {
   "cell_type": "code",
   "execution_count": 48,
   "metadata": {},
   "outputs": [
    {
     "data": {
      "image/png": "[encoded data removed]",
      "text/plain": [
       "<Figure size 1008x432 with 1 Axes>"
      ]
     },
     "metadata": {
      "needs_background": "light"
     },
     "output_type": "display_data"
    }
   ],
   "source": [
    "labels = ['Nissan', 'BMW', 'Tesla/Porsche']\n",
    "ice_cars= [total_n,total_b,total_p]\n",
    "electric_cars_opt=costs_opt\n",
    "electric_cars_cons=costs_cons\n",
    "x=np.arange(len(labels))\n",
    "width=0.35\n",
    "fig, ax = plt.subplots(figsize=(14,6))\n",
    "rects1 = ax.bar(x - width/3,ice_cars, width, label='Internal combustion engine cars',color='#B70018',edgecolor='#2B2B2B')\n",
    "rects2 = ax.bar(x + width/3,electric_cars_cons, width, label='Electric cars conservative path',color='#FF8C00',edgecolor='#2B2B2B')\n",
    "rects3 = ax.bar(x + width,electric_cars_opt, width, label='Electric cars optimal path',color='#FDB90A',edgecolor='#2B2B2B')\n",
    "plt.grid(alpha=0.3)\n",
    "plt.xticks(ticks=range(0,3),labels=('Nissan Juke/Leaf','Bmw Series1/i3','Porsche 911 Carrera/Tesla Model S'),size=12)\n",
    "ax = plt.gca()\n",
    "ax.set_facecolor('#f4f1ee')\n",
    "plt.ylabel('Cost (€)',size=13)\n",
    "plt.title('Total cost of the journey',size=14)\n",
    "plt.legend()\n",
    "plt.show()"
   ]
  },
  {
   "cell_type": "code",
   "execution_count": 49,
   "metadata": {},
   "outputs": [
    {
     "data": {
      "image/png": "[encoded data removed]",
      "text/plain": [
       "<Figure size 1008x432 with 1 Axes>"
      ]
     },
     "metadata": {
      "needs_background": "light"
     },
     "output_type": "display_data"
    }
   ],
   "source": [
    "labels = ['Nissan', 'BMW', 'Tesla/Porsche']\n",
    "ice_cars= [total_c_n,total_c_b,total_c_p]\n",
    "electric_cars_opt=[total_nissan_opt,total_bmw_opt,total_tesla_opt]\n",
    "electric_cars_cons=[total_l_cons,total_i3_cons,total_t_cons]\n",
    "x=np.arange(len(labels))\n",
    "width=0.35\n",
    "fig, ax = plt.subplots(figsize=(14,6))\n",
    "rects1 = ax.bar(x - width/3,ice_cars, width, label='Internal combustion engine cars',color='#B70018',edgecolor='#2B2B2B')\n",
    "rects2 = ax.bar(x + width/3,electric_cars_cons, width, label='Electric cars conservative path',color='#FF8C00',edgecolor='#2B2B2B')\n",
    "rects3 = ax.bar(x + width,electric_cars_opt, width, label='Electric cars optimal path',color='#FDB90A',edgecolor='#2B2B2B')\n",
    "plt.grid(alpha=0.3)\n",
    "plt.xticks(ticks=range(0,3),labels=('Nissan Juke/Leaf','Bmw Series1/i3','Porsche 911 Carrera/Tesla Model S'),size=12)\n",
    "ax = plt.gca()\n",
    "ax.set_facecolor('#f4f1ee')\n",
    "plt.ylabel('C02 emitted (g)',size=13)\n",
    "plt.title('Total CO2 emitted in the journey',size=14)\n",
    "plt.legend()\n",
    "plt.show()"
   ]
  },
  {
   "cell_type": "markdown",
   "metadata": {},
   "source": [
    "Worst case scenarios"
   ]
  },
  {
   "cell_type": "code",
   "execution_count": 50,
   "metadata": {},
   "outputs": [
    {
     "name": "stdout",
     "output_type": "stream",
     "text": [
      "[216.3875051776, 206.22, 191.2687515625, 176.2891, 157.7404]\n"
     ]
    }
   ],
   "source": [
    "#calculations of specific energy consupmtion depending on temperatures Spain\n",
    "e_sp=[]\n",
    "for t in [-4,0,5,10,20]:\n",
    "    e_sp.append(8.10*10**-9*t**6-3*10**-6*t**5+0.0001*t**4+0.0028*t**3-0.0546*t**2-2.7979*t+206.22)\n",
    "print(e_sp)\n",
    "e_sp=np.array(e_sp)"
   ]
  },
  {
   "cell_type": "code",
   "execution_count": 51,
   "metadata": {},
   "outputs": [
    {
     "name": "stdout",
     "output_type": "stream",
     "text": [
      "1.3717950834256791 1.3073378791989878 1.212553991003573 1.117590040344769\n"
     ]
    }
   ],
   "source": [
    "#calculations of new ranges Spain\n",
    "e1p=e_sp[0]/e_sp[4] # this is the increase in energy consumption \n",
    "e2p=e_sp[1]/e_sp[4] \n",
    "e3p=e_sp[2]/e_sp[4]\n",
    "e4p=e_sp[3]/e_sp[4]\n",
    "print(e1p,e2p,e3p,e4p)"
   ]
  },
  {
   "cell_type": "code",
   "execution_count": 52,
   "metadata": {},
   "outputs": [
    {
     "name": "stdout",
     "output_type": "stream",
     "text": [
      "[227.2471, 211.5766965184, 157.7404]\n"
     ]
    }
   ],
   "source": [
    "#calculations of specific energy consupmtion depending on temperatures Canada\n",
    "e_ca=[]\n",
    "for t in [-10,-2,20]:\n",
    "    e_ca.append(8.10*10**-9*t**6-3*10**-6*t**5+0.0001*t**4+0.0028*t**3-0.0546*t**2-2.7979*t+206.22)\n",
    "print(e_ca)"
   ]
  },
  {
   "cell_type": "code",
   "execution_count": 53,
   "metadata": {},
   "outputs": [
    {
     "name": "stdout",
     "output_type": "stream",
     "text": [
      "1.440639810726992 1.3412968175457907\n"
     ]
    }
   ],
   "source": [
    "#calculations of new ranges Canada\n",
    "e1p_ca=e_ca[0]/e_ca[2]\n",
    "e2p_ca=e_ca[1]/e_ca[2]\n",
    "print(e1p_ca,e2p_ca)\n"
   ]
  },
  {
   "cell_type": "code",
   "execution_count": 54,
   "metadata": {},
   "outputs": [
    {
     "name": "stdout",
     "output_type": "stream",
     "text": [
      "0.09673479166666665 0.3640536111111111 0.2982270138888887 0.37328208333333335 0.4963959722222222 0.2959480555555556 0.29479687500000007 0.6854229166666665\n"
     ]
    }
   ],
   "source": [
    "#worst case scenario Spain\n",
    "p50=[43.5,39.5,26.5,17.5]#kw,from 10 to 60% charging_power, from 60 to 70%, from 70 to 90% and from 90 to 100% \n",
    "#we increase the energy consumed by the factors found before\n",
    "e1=(4.2387*10**7*1.37)/3600000 #to first stop   \n",
    "percentage1=(0.5-(e1/40)) #(we start at 50% here)  \n",
    "e2=(6.6844*10**7*1.37)/3600000 #to second stop\n",
    "percentage2=(1-(e2/40))\n",
    "e3=(7.3763*10**7*1.37)/3600000 #to third stop\n",
    "percentage3=(1-(e3/40))\n",
    "e4=(6.5874*10**7*1.37)/3600000 #to fourth stop\n",
    "percentage4=(1-(e4/40))\n",
    "e5=(5.5358*10**7*1.31)/3600000 #to fifth stop\n",
    "percentage5=(1-(e5/40))\n",
    "e6=(8.3788*10**7*1.21)/3600000 #to sixth stop\n",
    "percentage6=(1-(e6/40))\n",
    "e7=(8.3925*10**7*1.21)/3600000 #to seventh stop\n",
    "percentage7=(1-(e7/40))\n",
    "e8=(4.081*10**7*1.11)/3600000 #to Cadiz\n",
    "percentage8=(1-(e8/40))\n",
    "print(percentage1,percentage2,percentage3,percentage4,percentage5,percentage6,percentage7,percentage8)\n",
    "percentages=[percentage1,percentage2,percentage3,percentage4,percentage5,percentage6,percentage7]"
   ]
  },
  {
   "cell_type": "code",
   "execution_count": 55,
   "metadata": {},
   "outputs": [
    {
     "name": "stdout",
     "output_type": "stream",
     "text": [
      "[65.66979895038322, 50.92117442931041, 54.55298668984682, 50.412017341187806, 43.619526919731875, 54.678722322030715, 54.7422357319924]\n",
      "405.8729668464213 [65.66979895038322, 50.92117442931041, 54.55298668984682, 50.412017341187806, 43.619526919731875, 85.95522678396871, 54.7422357319924]\n"
     ]
    }
   ],
   "source": [
    "#total recharging time\n",
    "p50=[43.5,39.5,26.5,17.5]#kW,from 0% to 60% charging_power, from 60% to 70%, from 70% to 90% and from 90% to 100% (in 50kW stations)\n",
    "p22=[22,15.5]#kW, from 0% to 80% and from 80% to 100% (in case of 22kW station, 5th stop) \n",
    "e=40\n",
    "t_worst_spain=[]\n",
    "for pc in percentages:\n",
    "    t_worst_spain.append((((0.60-pc)*e)/p50[0]+(0.10*e)/p50[1]+(0.20*e)/p50[2]+(0.10*e)/p50[3])*60)\n",
    "print(t_worst_spain)\n",
    "t_worst_spain[5]=((0.80-percentages[5])*e/p22[0]+(0.20*e)/p22[1])*60 #the 5th station has 22kW of max power \n",
    "t_total_worst_spain=sum(t_worst_spain)\n",
    "print(t_total_worst_spain,t_worst_spain) #this is the total recharging time "
   ]
  },
  {
   "cell_type": "code",
   "execution_count": 56,
   "metadata": {},
   "outputs": [
    {
     "name": "stdout",
     "output_type": "stream",
     "text": [
      "65.078766975 69.278766975\n"
     ]
    }
   ],
   "source": [
    "#total cost of the energy\n",
    "price=[0.30,0.39] #only station station 2 has the price so high\n",
    "e_recharged1=((e1+e3+e4)*1.37)+((e5*1.31))+((e6+e7)*1.11)\n",
    "e_recharged2=e2\n",
    "total_cost_worst_nissan= e_recharged1*price[0]+e_recharged2*price[1]\n",
    "price_at_home= 0.210 #total cost including the expenses at home\n",
    "cost_at_home=0.210*20 #at home we recharge only to 50% \n",
    "total_cost_nissan_worst=total_cost_worst_nissan+cost_at_home\n",
    "print(total_cost_worst_nissan,total_cost_nissan_worst)"
   ]
  },
  {
   "cell_type": "code",
   "execution_count": 57,
   "metadata": {},
   "outputs": [
    {
     "name": "stdout",
     "output_type": "stream",
     "text": [
      "0.36753 0.37465000000000004 0.6059841666666665 0.26166930555555556 0.6602169444444445 0.5646861111111111 0.5346663888888888 0.6689176388888889 0.4346409722222222 0.5212943055555556 0.6860119444444445\n"
     ]
    }
   ],
   "source": [
    "#worst case scenario canada\n",
    "e=40 #kWh, total_battery_capacity, this case different beacuse of temperatures\n",
    "p=[43.5,39.5,26.5,17.5]#kw, from 10 to 60% charging_power, from 60 to 70%, from 70 to 90% and from 90 to 100% \n",
    "#charging_time: energy_required/power_availible \n",
    "\n",
    "e1c=((1.3247*10**7)*1.44)/3600000 #to first stop\n",
    "percentage1=(0.5-(e1c/e))\n",
    "e2c=(6.2535*10**7*1.44)/3600000 #to second stop\n",
    "percentage2=(1-(e2c/e))\n",
    "e3c=(4.2342*10**7*1.34)/3600000 #to third stop\n",
    "percentage3=(1-(e3c/e))\n",
    "e4c=(7.9343*10**7*1.34)/3600000 #to fourth stop\n",
    "percentage4=(1-(e4c/e))\n",
    "e5c=(3.6514*10**7*1.34)/3600000 #to fifth stop\n",
    "percentage5=(1-(e5c/e))\n",
    "e6c=(4.6780*10**7*1.34)/3600000 #to sixth stop\n",
    "percentage6=(1-(e6c/e))\n",
    "e7c=(5.0006*10**7*1.34)/3600000 #to seventh stop\n",
    "percentage7=(1-(e7c/e))\n",
    "e8c=(3.5579*10**7*1.34)/3600000 #to eight stop\n",
    "percentage8=(1-(e8c/e))\n",
    "e9c=(6.0755*10**7*1.34)/3600000 #to nineth stop\n",
    "percentage9=(1-(e9c/e))\n",
    "e10c=(5.1443*10**7*1.34)/3600000 #to tenth Cadiz\n",
    "percentage10=(1-(e10c/e))\n",
    "e11c=(3.3742*10**7*1.34)/3600000 #to Quebec city\n",
    "percentage11=(1-(e11c/e))\n",
    "print(percentage1,percentage2,percentage3,percentage4,percentage5,percentage6,percentage7,percentage8,percentage9,percentage10,percentage11)\n",
    "percentages=[percentage1,percentage2,percentage3,percentage4,percentage5,percentage6,percentage7,percentage8,percentage9,percentage10]\n",
    "\n"
   ]
  },
  {
   "cell_type": "code",
   "execution_count": 58,
   "metadata": {},
   "outputs": [
    {
     "name": "stdout",
     "output_type": "stream",
     "text": [
      "[50.72937366302689, 50.336546076819985, 37.57328170900391, 56.56996370134107, 34.58112845229892, 39.85179511896558, 41.50805565536405, 34.10109013812267, 47.026699333524974, 42.24582577030658]\n",
      "434.5237596187746\n"
     ]
    }
   ],
   "source": [
    "#total recharging time\n",
    "e=40\n",
    "t_worst_canada=[]\n",
    "for pc in percentages:\n",
    "    t_worst_canada.append((((0.60-pc)*e)/p[0]+(0.10*e)/p[1]+(0.20*e)/p[2]+(0.10*e)/p[3])*60)\n",
    "print(t_worst_canada)\n",
    "t_total_worst_canada=sum(t_worst_canada)\n",
    "print(t_total_worst_canada)"
   ]
  },
  {
   "cell_type": "code",
   "execution_count": 59,
   "metadata": {},
   "outputs": [
    {
     "name": "stdout",
     "output_type": "stream",
     "text": [
      "107.09149480691207 109.29149480691207\n",
      "73.89313141676932 75.41113141676932\n"
     ]
    }
   ],
   "source": [
    "tc=t_worst_canada\n",
    "#total cost of the energy\n",
    "price=[0.16,0.20,0.28,0.33] #the price here is canadian dollars per minute\n",
    "cost_canada= tc[0]*price[1]+tc[1]*price[1]+tc[2]*price[3]+tc[3]*price[3]+tc[4]*price[1]\\\n",
    "            +tc[5]*price[1]+tc[6]*price[3]+tc[7]*price[3]+tc[8]*price[0]+tc[9]*price[1]\n",
    "\n",
    "price_at_home_canada=0.11 #canadian dollars/kWh \n",
    "cost_at_home_canada=price_at_home_canada*20 #at home we recharge to 50% \n",
    "total_cost_canada=cost_at_home_canada+cost_canada\n",
    "print(cost_canada,total_cost_canada)\n",
    "cost_canada_eur= cost_canada*0.69\n",
    "total_cost_canada_eur=total_cost_canada*0.69\n",
    "print(cost_canada_eur,total_cost_canada_eur)"
   ]
  },
  {
   "cell_type": "code",
   "execution_count": 60,
   "metadata": {},
   "outputs": [],
   "source": [
    "costs_worst=[total_cost_nissan_worst,total_cost_canada_eur]\n",
    "times_worst=[t_total_worst_spain,t_total_worst_canada]"
   ]
  },
  {
   "cell_type": "code",
   "execution_count": 61,
   "metadata": {},
   "outputs": [
    {
     "data": {
      "image/png": "[encoded data removed]",
      "text/plain": [
       "<Figure size 640x480 with 1 Axes>"
      ]
     },
     "metadata": {},
     "output_type": "display_data"
    }
   ],
   "source": [
    "plt.rcdefaults()\n",
    "fig, ax = plt.subplots()\n",
    "labels=['Spain','Canada']\n",
    "\n",
    "data = costs_worst\n",
    "y_pos = np.arange(len(costs_worst))\n",
    "ax.barh(y_pos,data,align='center',color=['#B70018','#FF8C00'],edgecolor='#2B2B2B')\n",
    "ax.set_yticks(y_pos)\n",
    "ax.set_yticklabels(labels)\n",
    "ax.invert_yaxis() \n",
    "ax.set_xlabel('Total cost of electricity (€)')\n",
    "ax.set_title('Cost of energy (worst case)')\n",
    "ax.grid(alpha=0.3)\n",
    "ax = plt.gca()\n",
    "ax.set_facecolor('#f4f1ee')\n",
    "plt.show()\n"
   ]
  },
  {
   "cell_type": "code",
   "execution_count": 62,
   "metadata": {},
   "outputs": [
    {
     "data": {
      "image/png": "[encoded data removed]",
      "text/plain": [
       "<Figure size 640x480 with 1 Axes>"
      ]
     },
     "metadata": {},
     "output_type": "display_data"
    }
   ],
   "source": [
    "plt.rcdefaults()\n",
    "fig, ax = plt.subplots()\n",
    "labels=['Spain','Canada']\n",
    "\n",
    "data = times_worst\n",
    "y_pos = np.arange(len(costs_worst))\n",
    "ax.barh(y_pos,data,align='center',color=['#B70018','#FF8C00'],edgecolor='#2B2B2B')\n",
    "ax.set_yticks(y_pos)\n",
    "ax.set_yticklabels(labels)\n",
    "ax.invert_yaxis() \n",
    "ax.set_xlabel('Total charging time (min)')\n",
    "ax.set_title('Recharging times (worst case)')\n",
    "ax.grid(alpha=0.3)\n",
    "ax = plt.gca()\n",
    "ax.set_facecolor('#f4f1ee')\n",
    "plt.show()"
   ]
  },
  {
   "cell_type": "code",
   "execution_count": 63,
   "metadata": {},
   "outputs": [],
   "source": [
    "#comparison on C02 emitted\n",
    "carbon_intensity_spain= 167 #g/kWh\n",
    "carbon_intensity_canada_values=[42,27] #values for Ontario and Quebec\n",
    "carbon_intensity_canada=np.mean(carbon_intensity_canada_values)\n",
    "energy_nissan_spain=e1+e2+e3+e4+e5+e6+e7+e8\n",
    "energy_nissan_canada=e1c+e2c+e3c+e4c+e5c+e6c+e7c+e8c+e9c+e10c+e11c\n",
    "CO2_spain=carbon_intensity_spain*0.546*energy_nissan_spain\n",
    "CO2_canada=carbon_intensity_canada*0.90*energy_nissan_canada #on our path we found only one station powered by renewables directly \n",
    "\n",
    "CO2=[int(CO2_spain),int(CO2_canada)]\n"
   ]
  },
  {
   "cell_type": "code",
   "execution_count": 64,
   "metadata": {},
   "outputs": [
    {
     "data": {
      "image/png": "[encoded data removed]",
      "text/plain": [
       "<Figure size 640x480 with 1 Axes>"
      ]
     },
     "metadata": {},
     "output_type": "display_data"
    }
   ],
   "source": [
    "plt.rcdefaults()\n",
    "fig, ax = plt.subplots()\n",
    "labels=['Spain','Canada']\n",
    "\n",
    "data = CO2\n",
    "y_pos = np.arange(len(CO2))\n",
    "ax.barh(y_pos,data,align='center',color=['#B70018','#FF8C00'],edgecolor='#2B2B2B')\n",
    "ax.set_yticks(y_pos)\n",
    "ax.set_yticklabels(labels)\n",
    "ax.invert_yaxis() \n",
    "ax.set_xlabel('CO2 emitted (g)')\n",
    "ax.set_title('Total CO2 emitted in the journey (worst case)')\n",
    "ax.grid(alpha=0.3)\n",
    "ax = plt.gca()\n",
    "ax.set_facecolor('#f4f1ee')\n",
    "plt.show()\n"
   ]
  },
  {
   "cell_type": "code",
   "execution_count": null,
   "metadata": {},
   "outputs": [],
   "source": []
  }
 ],
 "metadata": {
  "kernelspec": {
   "display_name": "Python 3 (ipykernel)",
   "language": "python",
   "name": "python3"
  },
  "language_info": {
   "codemirror_mode": {
    "name": "ipython",
    "version": 3
   },
   "file_extension": ".py",
   "mimetype": "text/x-python",
   "name": "python",
   "nbconvert_exporter": "python",
   "pygments_lexer": "ipython3",
   "version": "3.9.7"
  }
 },
 "nbformat": 4,
 "nbformat_minor": 4
}
